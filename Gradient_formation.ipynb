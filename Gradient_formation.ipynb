{
 "cells": [
  {
   "cell_type": "markdown",
   "metadata": {},
   "source": [
    "# Developmental Biology: Morphogen gradient and cellular reponses\n",
    "\n",
    "## Learning goals\n",
    "\n",
    "In this notebook you will learn:\n",
    "\n",
    "* What are the key components of a morphogen\n",
    "* What are their roles in development and by which mechanisms they can impart cell fate\n",
    "* How morphogen gradients are established\n",
    "* What parameters influence this gradient\n",
    "* What parameters influence the responses\n",
    "* Why morphogen interpretation is context-dependent\n",
    "* How morphogen gradients adapt to a growing tissue\n",
    "\n",
    "---\n",
    "\n",
    "## How to use interactive simulations and plots ?\n",
    "\n",
    "To run simulations/plots:\n",
    "* Chose the parameters values using the sliders\n",
    "* Click on “Run interact” button\n",
    "\n",
    "Follow the same steps to run again a plot with different parameters.\n",
    "\n",
    "---\n",
    "\n",
    "## Computational tools\n",
    "Please run the following cell before getting into the course."
   ]
  },
  {
   "cell_type": "code",
   "execution_count": 2,
   "metadata": {},
   "outputs": [],
   "source": [
    "from __future__ import print_function\n",
    "from ipywidgets import interact, interactive, fixed, interact_manual\n",
    "import ipywidgets as widgets\n",
    "from IPython.core.display import HTML\n",
    "import matplotlib.pyplot as plt\n",
    "import numpy as np\n",
    "#import seaborn as sns\n",
    "#import pandas as pd\n",
    "from math import *\n",
    "from Function import *\n",
    "from QCM import *\n",
    "from Figure_gradient import *"
   ]
  },
  {
   "cell_type": "markdown",
   "metadata": {},
   "source": [
    "\n",
    "----\n",
    "## Introduction\n",
    "\n",
    "\"The problem of pattern is considered in terms of how <font color='red'>genetic information</font> can be translated in a reliable manner to give <font color='red'>specific</font> and <font color='red'>different</font> spatial patterns of cellular differentiation.\" Lewis Wolpert.\n",
    "\n",
    "The basis of this mechanism suggests that cells are able to position themselves into a growing and moving environment with respect to one or more spatial landmarks. This course focuses on morphogen gradients, which are key components that ensure proper spatial positioning of cells in a tissue. What are morphogens? How do they allow different differentiation pathways? We will answer these questions.\n",
    "\n",
    "## I- Morphogens \n",
    "\n",
    "###  1.1 Definition of a morphogen\n",
    "\n",
    "A morphogen is described as secreted signaling molecules (or, in the case of the Bicoid morphogen, an intracellular protein gradient) that diffuse from a local source to form a concentration gradient. This concentration gradient brings about responses that induce multiple cell fates. Morphogens are often associated with lipids to improve their diffusion ability.\n",
    "\n",
    "### 1.2. Process in which morphogens are involved\n",
    "\n",
    "Morphogens are involved in numerous physiological processes. During development of the Drosophila embryo, for instance, they define the two major axes of the embryo: the antero-posterior axis and the dorso-ventral axis. \n",
    "\n",
    "### 1.3. The Bicoid morphogen\n",
    "\n",
    "Bicoid is one of the most studied morphogens. It enables the establishment of the antero-posterior axis in fruit flies.\n",
    "\n",
    "In Drosophila Melanogaster, the anterior-posterior axis is established during oogenesis. At this stage, the egg is composed of nurse cells and the oocyte. The oocyte is not able to express its own genes and nurse cells provide to the oocyte the required nutritional resources but also bicoid mRNA required for future patterning of the early embryo along the anterior-posterior axis. Bicoid is transcribed from the nurse cells' genome and the mRNA is transported into the oocyte. "
   ]
  },
  {
   "cell_type": "markdown",
   "metadata": {},
   "source": [
    "![Fig1_Drosophila_egg.png](Figure_gradient/Fig1_Drosophila_egg.png)"
   ]
  },
  {
   "cell_type": "markdown",
   "metadata": {},
   "source": [
    "The initial specification of both dorso-ventral and antero-posterior axis relies on the position of the nucleus in the oocyte. \n",
    "The side in the oocyte where the nucleus is located, is determined as dorsal. Consequently, the opposite side becomes ventral. \n",
    "Once the dorsal part of the embryo is established, the anterio-posterior axis is specified. "
   ]
  },
  {
   "cell_type": "markdown",
   "metadata": {},
   "source": [
    "![Fig2_axis.png](Figure_gradient/Fig2_axis.png)"
   ]
  },
  {
   "cell_type": "markdown",
   "metadata": {},
   "source": [
    "Once the antero-posterior axis is determined, a microtubule-dependent transport of the bicoid mRNA towards the anterior part of the oocyte is activated."
   ]
  },
  {
   "cell_type": "markdown",
   "metadata": {},
   "source": [
    "![Fig3_Bcd_loc.png](Figure_gradient/Fig3_Bcd_loc.png)"
   ]
  },
  {
   "cell_type": "markdown",
   "metadata": {},
   "source": [
    "Bicoid mRNAs form an equatorial plate at the anterior part of the oocyte. This equatorial plate is where the bicoid mRNA will be translated into proteins. The proteins will then diffuse, forming a morphogen gradient. "
   ]
  },
  {
   "cell_type": "markdown",
   "metadata": {
    "tags": []
   },
   "source": [
    "As discussed during the lecture, mothers that are homozygous mutant for Bicoid lay embryos with defects in anterior-posterior patterning, with both sides of the embryo assuming posterior features.\n"
   ]
  },
  {
   "cell_type": "markdown",
   "metadata": {},
   "source": [
    "![FigMutBic.png](Figure_gradient/FigMutBic.png)"
   ]
  },
  {
   "cell_type": "code",
   "execution_count": 3,
   "metadata": {
    "tags": []
   },
   "outputs": [
    {
     "data": {
      "text/html": [
       "Question 1: Let´s imagine that Bicoid was targeted during oogenesis using RNAi. What consequences do you think this would have in the oocyte?"
      ],
      "text/plain": [
       "<IPython.core.display.HTML object>"
      ]
     },
     "metadata": {},
     "output_type": "display_data"
    },
    {
     "data": {
      "application/vnd.jupyter.widget-view+json": {
       "model_id": "ce8d7c201104485ab24c3d81a90817e7",
       "version_major": 2,
       "version_minor": 0
      },
      "text/plain": [
       "RadioButtons(layout=Layout(width='max-content'), options=('Change the position of the nucleus in the cell', 'I…"
      ]
     },
     "metadata": {},
     "output_type": "display_data"
    },
    {
     "data": {
      "application/vnd.jupyter.widget-view+json": {
       "model_id": "c2a34b8b39cb41948764b6ab71707870",
       "version_major": 2,
       "version_minor": 0
      },
      "text/plain": [
       "Button(description='Check answers', icon='check', style=ButtonStyle(), tooltip='description')"
      ]
     },
     "metadata": {},
     "output_type": "display_data"
    }
   ],
   "source": [
    "QCM(c1,q1,a1)"
   ]
  },
  {
   "cell_type": "markdown",
   "metadata": {
    "tags": []
   },
   "source": [
    "Bicoid is a morphogen that provides positional information. Nuclei are able to sense Bicoid concentration but also to respond to it in a manner that is concentration-dependent. "
   ]
  },
  {
   "cell_type": "markdown",
   "metadata": {},
   "source": [
    "![bicoid_nuc.png](Figure_gradient/bicoid_nuc.png)"
   ]
  },
  {
   "cell_type": "markdown",
   "metadata": {},
   "source": [
    "When scientists tried to go deeper into understanding this gradient, they realized that a pure protein gradient was not sufficient for patterning the entire embryo. Indeed, if bicoid proteins were passively diffusing from the anterior part of the embryo toward the posterior part, the gradient would not be fast enough to pattern in time the entire embryo, whose length is 500 nm. "
   ]
  },
  {
   "cell_type": "code",
   "execution_count": 4,
   "metadata": {},
   "outputs": [
    {
     "data": {
      "text/html": [
       "Question 2: What feature of the system could be changed to ensure that the gradient diffuses sufficiently fast to reach the posterior part in due time?"
      ],
      "text/plain": [
       "<IPython.core.display.HTML object>"
      ]
     },
     "metadata": {},
     "output_type": "display_data"
    },
    {
     "data": {
      "application/vnd.jupyter.widget-view+json": {
       "model_id": "bd29ef710c1f47ee9befd9da535be07d",
       "version_major": 2,
       "version_minor": 0
      },
      "text/plain": [
       "RadioButtons(layout=Layout(width='max-content'), options=('Increase translation efficiency', 'Establish the gr…"
      ]
     },
     "metadata": {},
     "output_type": "display_data"
    },
    {
     "data": {
      "application/vnd.jupyter.widget-view+json": {
       "model_id": "067e2735ca9c4b3caacc455f83ee76bf",
       "version_major": 2,
       "version_minor": 0
      },
      "text/plain": [
       "Button(description='Check answers', icon='check', style=ButtonStyle(), tooltip='description')"
      ]
     },
     "metadata": {},
     "output_type": "display_data"
    }
   ],
   "source": [
    "QCM(c2,q2,a2)"
   ]
  },
  {
   "cell_type": "markdown",
   "metadata": {},
   "source": [
    "Scientists realized that this could be solved if an mRNA gradient was already established, before translation occurs."
   ]
  },
  {
   "cell_type": "code",
   "execution_count": 5,
   "metadata": {},
   "outputs": [
    {
     "data": {
      "text/html": [
       "Question 3: How could we test this hypothesis? How could we assess bicoid mRNA distribution?"
      ],
      "text/plain": [
       "<IPython.core.display.HTML object>"
      ]
     },
     "metadata": {},
     "output_type": "display_data"
    },
    {
     "data": {
      "application/vnd.jupyter.widget-view+json": {
       "model_id": "fae36d0d33004365a00acb42e8d903e9",
       "version_major": 2,
       "version_minor": 0
      },
      "text/plain": [
       "RadioButtons(layout=Layout(width='max-content'), options=('Use a complementary mRNA tagged with a fluorophore'…"
      ]
     },
     "metadata": {},
     "output_type": "display_data"
    },
    {
     "data": {
      "application/vnd.jupyter.widget-view+json": {
       "model_id": "e3718603ad9546deaf2e1d048066a4e4",
       "version_major": 2,
       "version_minor": 0
      },
      "text/plain": [
       "Button(description='Check answers', icon='check', style=ButtonStyle(), tooltip='description')"
      ]
     },
     "metadata": {},
     "output_type": "display_data"
    }
   ],
   "source": [
    "QCM(c3,q3,a3)"
   ]
  },
  {
   "cell_type": "markdown",
   "metadata": {},
   "source": [
    "To assess this, they performed $in$ $situ$ hybridization, revealing that a bicoid mRNA gradient was indeed established as a concentration gradient before translation occurs. \n",
    "\n",
    "<span style=\"text-decoration:underline;font-weight:bold;\">Conclusion:</span></font></p>\n",
    "From this initial work with the Bicoid morphogen, several studies then tried to get insights into morphogen gradient formation and equilibrium. As morphogens are involved in many different processes that are fundamental for development, it is important to understand how they work, including how cells respond to these gradients over time."
   ]
  },
  {
   "cell_type": "markdown",
   "metadata": {},
   "source": [
    "## II- Morphogen gradient"
   ]
  },
  {
   "cell_type": "markdown",
   "metadata": {},
   "source": [
    "### 2.1. What is a gradient ?\n",
    "\n",
    "A simple diffusion gradient of morphogen can be described mathematically by an equation with an effective diffusion coefficient D (µm2/second). This equation is:\n",
    "\n",
    "\\begin{align}\n",
    "\\frac{\\partial{\\mathbf{C}}}{\\partial t}=\\frac{\\partial^2{\\mathbf{C}}}{\\partial^2 x}{\\mathbf{D}}\n",
    "\\end{align}\n",
    "\n",
    "This is a differential equation, which describes the change in morphogen concentration **C** over time $t$ (∂**C**/∂$t$). It is a partial differential equation as it contains both derivatives with respect to space (∂2**C**/∂x2, in which $x$ [μm] is the distance from the source) and time (∂**C**/∂$t$). \n",
    "\n",
    "The following graph plots this equation for different values of initial concentration and diffusion coefficient. Consider $t$=1 as the final time where the gradient reaches its equilibrium."
   ]
  },
  {
   "cell_type": "code",
   "execution_count": 5,
   "metadata": {},
   "outputs": [
    {
     "data": {
      "application/vnd.jupyter.widget-view+json": {
       "model_id": "9266d0afb85542d6a91dc73488fc63f1",
       "version_major": 2,
       "version_minor": 0
      },
      "text/plain": [
       "interactive(children=(IntSlider(value=5, description='C0', max=10, min=1), FloatSlider(value=0.55, description…"
      ]
     },
     "metadata": {},
     "output_type": "display_data"
    },
    {
     "data": {
      "text/plain": [
       "<function Function.construct_gradient(C0=(1, 10), D=(0.1, 1))>"
      ]
     },
     "execution_count": 5,
     "metadata": {},
     "output_type": "execute_result"
    }
   ],
   "source": [
    "interact_manual(construct_gradient)"
   ]
  },
  {
   "cell_type": "code",
   "execution_count": 6,
   "metadata": {},
   "outputs": [
    {
     "data": {
      "text/html": [
       "Question 4: What do you observe when changing the Diffusion coefficient?"
      ],
      "text/plain": [
       "<IPython.core.display.HTML object>"
      ]
     },
     "metadata": {},
     "output_type": "display_data"
    },
    {
     "data": {
      "application/vnd.jupyter.widget-view+json": {
       "model_id": "",
       "version_major": 2,
       "version_minor": 0
      },
      "text/plain": [
       "RadioButtons(layout=Layout(width='max-content'), options=('The initial and final concentrations change', 'The …"
      ]
     },
     "metadata": {},
     "output_type": "display_data"
    },
    {
     "data": {
      "application/vnd.jupyter.widget-view+json": {
       "model_id": "",
       "version_major": 2,
       "version_minor": 0
      },
      "text/plain": [
       "Button(description='Check answers', icon='check', style=ButtonStyle(), tooltip='description')"
      ]
     },
     "metadata": {},
     "output_type": "display_data"
    },
    {
     "data": {
      "application/vnd.jupyter.widget-view+json": {
       "model_id": "",
       "version_major": 2,
       "version_minor": 0
      },
      "text/plain": [
       "Button(button_style='warning', description='Sorry, try again!', style=ButtonStyle(), tooltip='description')"
      ]
     },
     "metadata": {},
     "output_type": "display_data"
    },
    {
     "data": {
      "application/vnd.jupyter.widget-view+json": {
       "model_id": "5f2b7ff7b5c4455383d7951f90257eab",
       "version_major": 2,
       "version_minor": 0
      },
      "text/plain": [
       "RadioButtons(disabled=True, index=1, layout=Layout(width='max-content'), options=('The initial and final conce…"
      ]
     },
     "metadata": {},
     "output_type": "display_data"
    },
    {
     "data": {
      "application/vnd.jupyter.widget-view+json": {
       "model_id": "08ed4ec47bbf4bdb8171380d877ac389",
       "version_major": 2,
       "version_minor": 0
      },
      "text/plain": [
       "Button(button_style='success', description='Congratulations!', style=ButtonStyle(), tooltip='description')"
      ]
     },
     "metadata": {},
     "output_type": "display_data"
    },
    {
     "data": {
      "text/html": [
       "<FONT COLOR=\"GREEN\">Correct. Decreasing the Diffusion coefficient leads to an increase of the slopes of the curves. The curves tend to be linear when D decreases. The equilibrium is independent of D, as it only depends on the initial concentration.  </strong>.</font>"
      ],
      "text/plain": [
       "<IPython.core.display.HTML object>"
      ]
     },
     "metadata": {},
     "output_type": "display_data"
    }
   ],
   "source": [
    "QCM(c4,q4,a4)"
   ]
  },
  {
   "cell_type": "markdown",
   "metadata": {},
   "source": [
    "### 2.2. What are the parameters that impact the gradient ?"
   ]
  },
  {
   "cell_type": "markdown",
   "metadata": {},
   "source": [
    "Let's go back to our gradient equation now. \n",
    "\n",
    "\\begin{align}\n",
    "\\frac{\\partial{\\mathbf{C}}}{\\partial t}=\\frac{\\partial^2{\\mathbf{C}}}{\\partial^2 x}{\\mathbf{D}}\n",
    "\\end{align}\n",
    "\n",
    "This equation is not totally exact and the right equation is the following:\n",
    "\n",
    "\\begin{align}\n",
    "\\frac{\\partial{\\mathbf{C}}}{\\partial t}=\\frac{\\partial^2{\\mathbf{C}}}{\\partial^2 x}{\\mathbf{D}}-kC\n",
    "\\end{align}"
   ]
  },
  {
   "cell_type": "code",
   "execution_count": 7,
   "metadata": {},
   "outputs": [
    {
     "data": {
      "text/html": [
       "Question 5: What do you think this coefficient $k$ represents?"
      ],
      "text/plain": [
       "<IPython.core.display.HTML object>"
      ]
     },
     "metadata": {},
     "output_type": "display_data"
    },
    {
     "data": {
      "application/vnd.jupyter.widget-view+json": {
       "model_id": "9b6d22b1e634454c8c3285598f8a9608",
       "version_major": 2,
       "version_minor": 0
      },
      "text/plain": [
       "RadioButtons(layout=Layout(width='max-content'), options=('Cell Division', 'Actin dependent transport of prote…"
      ]
     },
     "metadata": {},
     "output_type": "display_data"
    },
    {
     "data": {
      "application/vnd.jupyter.widget-view+json": {
       "model_id": "b0d117cfc35e4f63bf0068218d6763a9",
       "version_major": 2,
       "version_minor": 0
      },
      "text/plain": [
       "Button(description='Check answers', icon='check', style=ButtonStyle(), tooltip='description')"
      ]
     },
     "metadata": {},
     "output_type": "display_data"
    }
   ],
   "source": [
    "QCM(c5,q5,a5)"
   ]
  },
  {
   "cell_type": "markdown",
   "metadata": {},
   "source": [
    "QUESTION: How do you think this coefficient $k$ will impact the gradient? Write your answer below."
   ]
  },
  {
   "cell_type": "raw",
   "metadata": {},
   "source": [
    "Answer:"
   ]
  },
  {
   "cell_type": "markdown",
   "metadata": {},
   "source": [
    "QUESTION: Do you know other biological parameters that should be included in this model in order to improve it? "
   ]
  },
  {
   "cell_type": "raw",
   "metadata": {},
   "source": [
    "Answer:"
   ]
  },
  {
   "cell_type": "markdown",
   "metadata": {},
   "source": [
    "## III. Morphogen interpretation: a context-dependent process\n",
    "\n",
    "From here, we are going to consider the mechanisms of action of extracellular morphogens such as Hedgehog. From what we have seen so far, we know that morphogens act on receiving cells by inducing a transcriptional response. However, only a limited number of inductive signals are iteratively used during development to coordinate tissue patterning. This implies that the same morphogen can have different effects on receiving cells depending on the developmental context. \n",
    "\n",
    "To understand how this is possible, we need to have a look at the mechanism of action by which a morphogen specifies cell fates.\n",
    "<p></p>\n",
    "<div style=\"border:1px solid red; padding:10px 10px;\">\n",
    "<p><font color = \"red\"><span style=\"text-decoration:underline;font-weight:bold;\">Mechanism recap:</span></font></p>\n",
    "    <p></p>\n",
    "<ol style=\"margin:0;padding:0 0 0 20px;\">\n",
    "<font color = \"red\"><p><li> Morphogens are <strong>sensed</strong> by cells through interactions with specific membrane receptors. </li></p></font>\n",
    "<font color = \"red\"><p><li> This interaction activates a <strong>signal transduction cascade</strong> that modulates the activity of transcription factors.</li></p></font>\n",
    "<font color = \"red\"><li> Transcription factors induce activation or inhibition of <strong>effector proteins</strong> responsible for cellular changes.</li></font>\n",
    "</ol>\n",
    "</div>\n",
    "\n",
    "\n",
    "Thus, we easily understand that the transcriptional response of cells not only depends on the availability of the morphogen molecules, which could be referred as the **signaling level**, but also on the ability of cells to **sense** and **interpret** these molecules, which could be referred to as **signal interpretation**. Therefore, the action of a morphogen on tissue is **highly context dependent**.\n",
    "\n",
    "In this section we will explore parameters that influence the way cells respond to morphogens.\n",
    "\n",
    "### 3.1. Influence of signal level and morphogen distribution\n",
    "\n",
    "By definition, the response of a receiving cell to a morphogen depends on the distance to the source. The morphogen concentration determines the downstream transcriptional program in receiving cells in a dose-dependent manner. This means that changes in extracellular morphogen concentration are transduced into differences in the activity of relevant transcription factors. For example, a three-fold increase in the concentration of the activin morphogen in Xenopus cells causes a gene expression switch that could be reproduced by simply inducing a comparable change in the level of the downstream transcription factor Smad2. These changes in transcriptional regulations provide positional information to cells, leading to tissue patterning.\n",
    "\n",
    "Generally, a single type of morphogen receptor is sufficient to specify a concentration-dependent response. Then, how is it possible that different morphogen concentrations activate the same intracellular cascade but result in distinct activation of the transcriptional effectors? In numerous cases, the input-output response of morphogen-induced signaling cascades reveal a linear dependence between receptor activation levels and transducer levels in receiving cells. For example, threshold changes in the absolute number of activated receptors is sufficient to specify concentration-dependent responses to activin in Xenopus cells. Therefore, the activin gradient is converted into  a gradient of transducer activation that is sufficient to mediate differential responses. From this observation, we can understand that some of the major parameters influencing cell responses to a morphogen gradient are the parameters determining the gradient itself. These parameters are **concentration at the source $C0$, degradation rate $k$ and diffusion coefficient** $D$.\n",
    "\n",
    "To illustrate this, let’s consider the following simulation: a tissue with cells in a state C is exposed to a steady-state morphogen gradient. The cellular response to this morphogen is characterized by two concentration thresholds, which correspond to the specification of cell identities A and B. Choose different values for $C0$, $k$ and $D$, and run the plot."
   ]
  },
  {
   "cell_type": "code",
   "execution_count": 8,
   "metadata": {},
   "outputs": [
    {
     "data": {
      "application/vnd.jupyter.widget-view+json": {
       "model_id": "e603346670fa48e192532abb7c3e1590",
       "version_major": 2,
       "version_minor": 0
      },
      "text/plain": [
       "interactive(children=(FloatSlider(value=7.0, description='c0', max=10.0, min=5.0, step=0.01), FloatSlider(valu…"
      ]
     },
     "metadata": {},
     "output_type": "display_data"
    },
    {
     "data": {
      "text/plain": [
       "<function Function.plot_french_flag(c0=(5, 10, 0.01), D=(0.1, 100), k=(0.1, 1, 0.01))>"
      ]
     },
     "execution_count": 8,
     "metadata": {},
     "output_type": "execute_result"
    }
   ],
   "source": [
    "interact_manual(plot_french_flag)"
   ]
  },
  {
   "cell_type": "markdown",
   "metadata": {},
   "source": [
    "#### QUESTION: What do you observe? How does tissue patterning change? "
   ]
  },
  {
   "cell_type": "raw",
   "metadata": {},
   "source": [
    "Observation..."
   ]
  },
  {
   "cell_type": "markdown",
   "metadata": {},
   "source": [
    "Given activation thresholds determine the selection of discrete cell identities. Thus, you can see that gradient parameters influence the position of the pattern boundaries. \n",
    "\n",
    "**But how are these activation thresholds determined? How do small differences in signal level induce a threshold response in gene expression in receiving cells?**\n",
    "\n",
    "Different mechanisms have been proposed and a major one is the **difference in binding affinity** of the transcription factor to different gene promoters.\n"
   ]
  },
  {
   "cell_type": "code",
   "execution_count": 9,
   "metadata": {},
   "outputs": [
    {
     "data": {
      "text/html": [
       "Question 6: What levels of morphogen do we need to activate a gene promoter for which the transcription factor has a low affinity?"
      ],
      "text/plain": [
       "<IPython.core.display.HTML object>"
      ]
     },
     "metadata": {},
     "output_type": "display_data"
    },
    {
     "data": {
      "application/vnd.jupyter.widget-view+json": {
       "model_id": "",
       "version_major": 2,
       "version_minor": 0
      },
      "text/plain": [
       "RadioButtons(layout=Layout(width='max-content'), options=('Low morphogen levels only', 'High morphogen levels …"
      ]
     },
     "metadata": {},
     "output_type": "display_data"
    },
    {
     "data": {
      "application/vnd.jupyter.widget-view+json": {
       "model_id": "",
       "version_major": 2,
       "version_minor": 0
      },
      "text/plain": [
       "Button(description='Check answers', icon='check', style=ButtonStyle(), tooltip='description')"
      ]
     },
     "metadata": {},
     "output_type": "display_data"
    },
    {
     "data": {
      "application/vnd.jupyter.widget-view+json": {
       "model_id": "",
       "version_major": 2,
       "version_minor": 0
      },
      "text/plain": [
       "Button(button_style='warning', description='Sorry, try again!', style=ButtonStyle(), tooltip='description')"
      ]
     },
     "metadata": {},
     "output_type": "display_data"
    },
    {
     "data": {
      "application/vnd.jupyter.widget-view+json": {
       "model_id": "4496b6230b3841ecaf423caded70f77d",
       "version_major": 2,
       "version_minor": 0
      },
      "text/plain": [
       "RadioButtons(disabled=True, index=1, layout=Layout(width='max-content'), options=('Low morphogen levels only',…"
      ]
     },
     "metadata": {},
     "output_type": "display_data"
    },
    {
     "data": {
      "application/vnd.jupyter.widget-view+json": {
       "model_id": "c546df9aabb543c693db290e21c22c66",
       "version_major": 2,
       "version_minor": 0
      },
      "text/plain": [
       "Button(button_style='success', description='Congratulations!', style=ButtonStyle(), tooltip='description')"
      ]
     },
     "metadata": {},
     "output_type": "display_data"
    },
    {
     "data": {
      "text/html": [
       "<FONT COLOR=\"GREEN\">Correct. The transcription factor can only bind to the promoter region when it is present at high concentration. Therefore, the effector will be activated only at high concentration of the morphogen.  </strong>.</font>"
      ],
      "text/plain": [
       "<IPython.core.display.HTML object>"
      ]
     },
     "metadata": {},
     "output_type": "display_data"
    }
   ],
   "source": [
    "QCM(c6,q6,a6)"
   ]
  },
  {
   "cell_type": "code",
   "execution_count": 10,
   "metadata": {},
   "outputs": [
    {
     "data": {
      "text/html": [
       "Question 7: Same question but for high affinity?"
      ],
      "text/plain": [
       "<IPython.core.display.HTML object>"
      ]
     },
     "metadata": {},
     "output_type": "display_data"
    },
    {
     "data": {
      "application/vnd.jupyter.widget-view+json": {
       "model_id": "4b3f351405a34db180b0081c16b03b67",
       "version_major": 2,
       "version_minor": 0
      },
      "text/plain": [
       "RadioButtons(layout=Layout(width='max-content'), options=('Low morphogen levels only', 'High morphogen levels …"
      ]
     },
     "metadata": {},
     "output_type": "display_data"
    },
    {
     "data": {
      "application/vnd.jupyter.widget-view+json": {
       "model_id": "e54e06fc1d8d434eb36ba91ac41a1e2a",
       "version_major": 2,
       "version_minor": 0
      },
      "text/plain": [
       "Button(description='Check answers', icon='check', style=ButtonStyle(), tooltip='description')"
      ]
     },
     "metadata": {},
     "output_type": "display_data"
    }
   ],
   "source": [
    "QCM(c7,q7,a7)"
   ]
  },
  {
   "cell_type": "markdown",
   "metadata": {},
   "source": [
    "Indeed, low-affinity binding sites are occupied only at high concentration of transcription factor, whereas high-affinity binding sites are bound even at low concentrations. \n",
    "As the signaling pathway is mostly linear, the concentration of transcription factor is directly related to the morphogen concentration that is sensed by the cell. At a low concentration, a transcription factor would only be able to activate a promoter if it exhibits high binding affinity to this transcription factor; while at high concentration, the transcription factor can activate both high and low binding affinity promoters. "
   ]
  },
  {
   "cell_type": "markdown",
   "metadata": {},
   "source": [
    "![Fig5_scheme_affinity.png](Figure_gradient/Fig5_scheme_affinity.png)"
   ]
  },
  {
   "cell_type": "markdown",
   "metadata": {},
   "source": [
    "To illustrate this idea, we can look at the transcriptional activation of specific genes in cells depending on the morphogen concentration. \n",
    "The probability of promoter activation $p$ by a transcription factor $X$ can be described by the Hill function, which depends on the transcription factor concentration $[X]$, Hill number $n$ and the reaction dissociation constant $K$, which corresponds to the inverse of the binding affinity.\n",
    "\n",
    "\\begin{align}\n",
    "\\ p([X]) = \\frac{[X]^{n}}{[X]^{n} + K^{n}}\n",
    "\\end{align}\n",
    "    \n",
    "Here we consider a simplified pathway where the interaction of a morphogen with its receptor results in the activation of a transcption factor $X$. This transcription factor controls the activation of two effectors, $A$ and $B$, which are responsible for cell identity selection. When $B$ is expressed at high levels in cells, cell identity $B$ is specified. But when $A$ and $B$ are co-expressed in cells, cell identity $A$ is specified. $X$ binds to $A$ and $B$ promoters with a binding affinity of $\\frac{1}{K1}$ and $\\frac{1}{K2}$, respectively. For the sake of simplicity, we consider that a specific morphogen concentration is directly converted into a specific transcription factor concentration without taking into account intermediate steps in the pathway i.e. $C_{morphogen}(x)=[X](x)$. In this model, activation thresholds are determined as morphogen concentrations at which the probability of effector transcription activation reaches $p=0.9$ (i.e. high transcription). "
   ]
  },
  {
   "cell_type": "code",
   "execution_count": 11,
   "metadata": {},
   "outputs": [
    {
     "data": {
      "application/vnd.jupyter.widget-view+json": {
       "model_id": "1d2b95ebceb84fa4969d9a8eda27e4ef",
       "version_major": 2,
       "version_minor": 0
      },
      "text/plain": [
       "interactive(children=(FloatSlider(value=0.30000000000000004, description='K1', max=0.5, min=0.1, step=0.01), F…"
      ]
     },
     "metadata": {},
     "output_type": "display_data"
    },
    {
     "data": {
      "text/plain": [
       "<function Function.plot_activation(K1=(0.1, 0.5, 0.01), K2=(0.01, 0.1, 0.01))>"
      ]
     },
     "execution_count": 11,
     "metadata": {},
     "output_type": "execute_result"
    }
   ],
   "source": [
    "interact_manual(plot_activation)"
   ]
  },
  {
   "cell_type": "markdown",
   "metadata": {},
   "source": [
    "#### QUESTION: What do you observe? How is tissue patterning influenced by the binding affinity? "
   ]
  },
  {
   "cell_type": "raw",
   "metadata": {},
   "source": [
    "Observation..."
   ]
  },
  {
   "cell_type": "markdown",
   "metadata": {},
   "source": [
    "### 3.2 Morphogen interpretation depends on tissue-specific competence of cells"
   ]
  },
  {
   "cell_type": "markdown",
   "metadata": {},
   "source": [
    "We saw that the cellular response to an inductive event depends on the inducer level and its distribution in the tissue. However, another major component in an inductive event is the competence of the receiving tissue to interpret the signal. Such competence relies on the gene expression program of the cell. A cell can generate a specific outcome only if all the components to receive and transduce the signal are present. This means that loss of competence occurs if some parts of the signal transduction cascade or the receptors are missing or blocked. These mechanisms can explain the ON/OFF switch of signaling cascade in a tissue exposed to the same morphogen."
   ]
  },
  {
   "cell_type": "markdown",
   "metadata": {},
   "source": [
    "![Fig6_scheme_competence.png](Figure_gradient/Fig6_scheme_competence.png)"
   ]
  },
  {
   "cell_type": "markdown",
   "metadata": {},
   "source": [
    "\n",
    "To illustrate this idea, we can take the same model of effector activation as before but this time we arbitrary set that after a distance limit $L_{comp.}$ from the source, receiving cells do not express the specific receptor of the morphogen. In this case the probability of effector activation becomes:\n",
    "\n",
    "$$p([X]) =\n",
    "  \\begin{cases}\n",
    "    \\frac{[X]^{n}}{[X]^{n} + K^{n}}     & \\quad \\text{if x< } L_{comp.}\\\\\n",
    "    0  & \\quad \\text{if x> } L_{comp.}\n",
    "  \\end{cases}\n",
    "$$\n",
    "\n",
    "#### What do you expect to happen? (Please answer the following questions before running the plot)"
   ]
  },
  {
   "cell_type": "code",
   "execution_count": 12,
   "metadata": {},
   "outputs": [
    {
     "data": {
      "text/html": [
       "Question 8: Will cell competence impact the gradient shape?"
      ],
      "text/plain": [
       "<IPython.core.display.HTML object>"
      ]
     },
     "metadata": {},
     "output_type": "display_data"
    },
    {
     "data": {
      "application/vnd.jupyter.widget-view+json": {
       "model_id": "f44579274d8f4e4eabd565954a5ea5cb",
       "version_major": 2,
       "version_minor": 0
      },
      "text/plain": [
       "RadioButtons(layout=Layout(width='max-content'), options=('Yes', 'No'), value='Yes')"
      ]
     },
     "metadata": {},
     "output_type": "display_data"
    },
    {
     "data": {
      "application/vnd.jupyter.widget-view+json": {
       "model_id": "fee13c1c58a045d4a39891104d0879f6",
       "version_major": 2,
       "version_minor": 0
      },
      "text/plain": [
       "Button(description='Check answers', icon='check', style=ButtonStyle(), tooltip='description')"
      ]
     },
     "metadata": {},
     "output_type": "display_data"
    }
   ],
   "source": [
    "QCM(c8,q8,a8)"
   ]
  },
  {
   "cell_type": "code",
   "execution_count": 13,
   "metadata": {},
   "outputs": [
    {
     "data": {
      "text/html": [
       "Question 9: Do you expect that the size of the identity domain labeled as C (red domain in previous plot, lacking activation of the effectors) necessarily increases?"
      ],
      "text/plain": [
       "<IPython.core.display.HTML object>"
      ]
     },
     "metadata": {},
     "output_type": "display_data"
    },
    {
     "data": {
      "application/vnd.jupyter.widget-view+json": {
       "model_id": "e01459c42d67440dbb6df777040a1a68",
       "version_major": 2,
       "version_minor": 0
      },
      "text/plain": [
       "RadioButtons(layout=Layout(width='max-content'), options=('Yes', 'No'), value='Yes')"
      ]
     },
     "metadata": {},
     "output_type": "display_data"
    },
    {
     "data": {
      "application/vnd.jupyter.widget-view+json": {
       "model_id": "04832cc7b28241809381d3d3862d5dc1",
       "version_major": 2,
       "version_minor": 0
      },
      "text/plain": [
       "Button(description='Check answers', icon='check', style=ButtonStyle(), tooltip='description')"
      ]
     },
     "metadata": {},
     "output_type": "display_data"
    }
   ],
   "source": [
    "QCM(c9,q9,a9)"
   ]
  },
  {
   "cell_type": "code",
   "execution_count": 14,
   "metadata": {},
   "outputs": [
    {
     "data": {
      "application/vnd.jupyter.widget-view+json": {
       "model_id": "0f25513c8f0e4d318597224c4c60c6bf",
       "version_major": 2,
       "version_minor": 0
      },
      "text/plain": [
       "interactive(children=(IntSlider(value=20, description='Rlim', max=40, min=1), Button(description='Run Interact…"
      ]
     },
     "metadata": {},
     "output_type": "display_data"
    },
    {
     "data": {
      "text/plain": [
       "<function Function.plot_activation_competence(Rlim=(1, 40, 1))>"
      ]
     },
     "execution_count": 14,
     "metadata": {},
     "output_type": "execute_result"
    }
   ],
   "source": [
    "interact_manual(plot_activation_competence)"
   ]
  },
  {
   "cell_type": "markdown",
   "metadata": {},
   "source": [
    "### 3.3. Influence of signaling dynamic\n",
    "\n",
    "Morphogen gradients are not only regulated in space but also in time. Until now we have only considered a morphogen gradient in steady-state. However, if the spread or clearance of the morphogen are relatively slow, it will take time to reach the steady-state. Prior to steady state, the gradient concentration changes at different rate and in different positions in the tissue. Cells integrate the concentration over time, resulting in an increase of the \"sensed\" morphogen concentration.\n",
    "\n",
    "#### QUESTION: Take a look to the time dependence of the gradient shape in the section II.2.2.\n",
    "Considering the same simple transduction cascade as before, answer the following question:"
   ]
  },
  {
   "cell_type": "code",
   "execution_count": 15,
   "metadata": {},
   "outputs": [
    {
     "data": {
      "text/html": [
       "Question 10: Given the same activation threshold for domain, what do you expect to happen with a longer exposure t2>t1?"
      ],
      "text/plain": [
       "<IPython.core.display.HTML object>"
      ]
     },
     "metadata": {},
     "output_type": "display_data"
    },
    {
     "data": {
      "application/vnd.jupyter.widget-view+json": {
       "model_id": "aa50195fbd0e4651a9c6d4bb07f186f4",
       "version_major": 2,
       "version_minor": 0
      },
      "text/plain": [
       "RadioButtons(layout=Layout(width='max-content'), options=('Domain A will become larger.', 'Domain A will remai…"
      ]
     },
     "metadata": {},
     "output_type": "display_data"
    },
    {
     "data": {
      "application/vnd.jupyter.widget-view+json": {
       "model_id": "b100171511dd4d228a0005240d0fff66",
       "version_major": 2,
       "version_minor": 0
      },
      "text/plain": [
       "Button(description='Check answers', icon='check', style=ButtonStyle(), tooltip='description')"
      ]
     },
     "metadata": {},
     "output_type": "display_data"
    }
   ],
   "source": [
    "QCM(c10,q10,a10)"
   ]
  },
  {
   "cell_type": "markdown",
   "metadata": {},
   "source": [
    "In addition, the temporal aspect defines specific developmental stages due to temporally limited competence of the receiving cells. The period of time during which cells can respond to a developmental signal is called \"competency window\". "
   ]
  },
  {
   "cell_type": "markdown",
   "metadata": {},
   "source": [
    "### RECAP QUESTIONS"
   ]
  },
  {
   "cell_type": "code",
   "execution_count": 16,
   "metadata": {},
   "outputs": [
    {
     "data": {
      "text/html": [
       "Question 11: Which of the following parameters does not impact the gradient shape?"
      ],
      "text/plain": [
       "<IPython.core.display.HTML object>"
      ]
     },
     "metadata": {},
     "output_type": "display_data"
    },
    {
     "data": {
      "application/vnd.jupyter.widget-view+json": {
       "model_id": "8a7106b69c4e4637bbcdc9f48ff9b6ad",
       "version_major": 2,
       "version_minor": 0
      },
      "text/plain": [
       "RadioButtons(layout=Layout(width='max-content'), options=('Initial concentration', 'Degradation rate of the mo…"
      ]
     },
     "metadata": {},
     "output_type": "display_data"
    },
    {
     "data": {
      "application/vnd.jupyter.widget-view+json": {
       "model_id": "6e4a399791d345a49410a8e2a6c1f359",
       "version_major": 2,
       "version_minor": 0
      },
      "text/plain": [
       "Button(description='Check answers', icon='check', style=ButtonStyle(), tooltip='description')"
      ]
     },
     "metadata": {},
     "output_type": "display_data"
    }
   ],
   "source": [
    "QCM(c11,q11,a11)"
   ]
  },
  {
   "cell_type": "code",
   "execution_count": 17,
   "metadata": {},
   "outputs": [
    {
     "data": {
      "text/html": [
       "Question 12: What are the parameters that influence the fate cells with adopt?"
      ],
      "text/plain": [
       "<IPython.core.display.HTML object>"
      ]
     },
     "metadata": {},
     "output_type": "display_data"
    },
    {
     "data": {
      "application/vnd.jupyter.widget-view+json": {
       "model_id": "30a9e275eaf74c1aaaeb724cecf8df5c",
       "version_major": 2,
       "version_minor": 0
      },
      "text/plain": [
       "RadioButtons(layout=Layout(width='max-content'), options=('Distance source', 'Cell competence', 'Exposure dura…"
      ]
     },
     "metadata": {},
     "output_type": "display_data"
    },
    {
     "data": {
      "application/vnd.jupyter.widget-view+json": {
       "model_id": "0039b2225d4a422c8f5a90c1cf51fe8e",
       "version_major": 2,
       "version_minor": 0
      },
      "text/plain": [
       "Button(description='Check answers', icon='check', style=ButtonStyle(), tooltip='description')"
      ]
     },
     "metadata": {},
     "output_type": "display_data"
    }
   ],
   "source": [
    "QCM(c12,q12,a12)"
   ]
  },
  {
   "cell_type": "markdown",
   "metadata": {},
   "source": [
    "#### OPEN QUESTION 1 : How do you define cell competence? "
   ]
  },
  {
   "cell_type": "raw",
   "metadata": {},
   "source": [
    "Answer..."
   ]
  },
  {
   "cell_type": "markdown",
   "metadata": {},
   "source": [
    "#### OPEN QUESTION 2: How temporal aspects affect morphogen signaling and its interpretation?"
   ]
  },
  {
   "cell_type": "raw",
   "metadata": {},
   "source": [
    "Answer..."
   ]
  }
 ],
 "metadata": {
  "kernelspec": {
   "display_name": "Python 3 (ipykernel)",
   "language": "python",
   "name": "python3"
  },
  "language_info": {
   "codemirror_mode": {
    "name": "ipython",
    "version": 3
   },
   "file_extension": ".py",
   "mimetype": "text/x-python",
   "name": "python",
   "nbconvert_exporter": "python",
   "pygments_lexer": "ipython3",
   "version": "3.9.7"
  }
 },
 "nbformat": 4,
 "nbformat_minor": 4
}
